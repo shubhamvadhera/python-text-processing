{
 "cells": [
  {
   "cell_type": "code",
   "execution_count": 44,
   "metadata": {},
   "outputs": [
    {
     "name": "stdout",
     "output_type": "stream",
     "text": [
      "['Serial Number: 515308075004', 'Family       : PX', 'Model        : 2000HN48-IA-HW', 'Process      : FVT', 'Start Time   : 12/02/16 11:41:14', 'Console #    : 2', 'Elapsed Time : 00:53:47', 'End Time     : 12/02/16 12:35:01', 'Start Time   : 12/02/16 11:41:14', 'Error Message: NONE', 'Error Code   : 0', 'Test Result  : PASSED']\n",
      "['Serial Number: 515308075004', 'Family       : PX', 'Model        : 2000HN48-IA-HW', 'Process      : FVT', 'Start Time   : 12/02/16 11:41:14', 'Console #    : 2', 'Elapsed Time : 00:53:47', 'End Time     : 12/02/16 12:35:01', 'Start Time   : 12/02/16 11:41:14', 'Error Message: NONE', 'Error Code   : 0', 'Test Result  : PASSED']\n",
      "['Serial Number: 515308075004', 'Family       : PX', 'Model        : 2000HN48-IA-HW', 'Process      : FVT', 'Start Time   : 12/02/16 11:41:14', 'Console #    : 2', 'Elapsed Time : 00:53:47', 'End Time     : 12/02/16 12:35:01', 'Start Time   : 12/02/16 11:41:14', 'Error Message: NONE', 'Error Code   : 0', 'Test Result  : PASSED']\n"
     ]
    }
   ],
   "source": [
    "import csv\n",
    "import os\n",
    "\n",
    "source_dir = 'C:\\\\Users\\\\svadhera\\\\Documents\\\\inputfiles\\\\'\n",
    "target_dir = source_dir + '\\\\processed\\\\'\n",
    "if not os.path.exists(target_dir):\n",
    "    os.makedirs(target_dir)\n",
    "\n",
    "for root,dirs,files in os.walk(source_dir):\n",
    "    for fil in files:\n",
    "        if not fil.endswith(\".txt\"):\n",
    "            continue\n",
    "        inputfile = os.path.join(source_dir,fil)\n",
    "        input_set = []\n",
    "        with open(inputfile) as inputs:\n",
    "            for line in inputs:\n",
    "                currLine = line.strip()\n",
    "                if currLine == '':\n",
    "                    continue\n",
    "                if '*****' in currLine:\n",
    "                    break\n",
    "                input_set.append(currLine)\n",
    "        for line in reversed(open(inputfile).readlines()):\n",
    "            currLine = line.strip()\n",
    "            if currLine == '' or '*' in currLine:\n",
    "                continue\n",
    "            input_set.append(currLine)\n",
    "            if 'Test Result' in currLine:\n",
    "                break\n",
    "        print input_set\n",
    "        \n",
    "        with open(target_dir+fil+'_out.csv','wb') as csv_file:\n",
    "                writer = csv.writer(csv_file, delimiter=',')\n",
    "                for inp in input_set:\n",
    "                    lis = inp.split(':',1)\n",
    "                    lis = [x.strip() for x in lis]\n",
    "                    writer.writerow(lis)\n",
    "    "
   ]
  },
  {
   "cell_type": "code",
   "execution_count": null,
   "metadata": {
    "collapsed": true
   },
   "outputs": [],
   "source": []
  },
  {
   "cell_type": "code",
   "execution_count": null,
   "metadata": {
    "collapsed": true
   },
   "outputs": [],
   "source": []
  }
 ],
 "metadata": {
  "kernelspec": {
   "display_name": "Python 2",
   "language": "python",
   "name": "python2"
  },
  "language_info": {
   "codemirror_mode": {
    "name": "ipython",
    "version": 2
   },
   "file_extension": ".py",
   "mimetype": "text/x-python",
   "name": "python",
   "nbconvert_exporter": "python",
   "pygments_lexer": "ipython2",
   "version": "2.7.13"
  }
 },
 "nbformat": 4,
 "nbformat_minor": 2
}
